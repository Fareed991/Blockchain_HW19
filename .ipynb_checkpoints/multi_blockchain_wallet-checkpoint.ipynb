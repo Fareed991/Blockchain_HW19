{
 "cells": [
  {
   "cell_type": "code",
   "execution_count": 2,
   "metadata": {},
   "outputs": [
    {
     "data": {
      "text/plain": [
       "True"
      ]
     },
     "execution_count": 2,
     "metadata": {},
     "output_type": "execute_result"
    }
   ],
   "source": [
    "# import libraries\n",
    "import subprocess\n",
    "import json\n",
    "import os\n",
    "from constants import *\n",
    "from dotenv import load_dotenv\n",
    "from bipwallet import wallet\n",
    "from web3 import Web3\n",
    "from eth_account import Account\n",
    "from bit import PrivateKeyTestnet\n",
    "from bit.network import NetworkAPI\n",
    "from web3.middleware import geth_poa_middleware\n",
    "from web3.gas_strategies.time_based import medium_gas_price_strategy\n",
    "\n",
    "load_dotenv()\n"
   ]
  },
  {
   "cell_type": "code",
   "execution_count": 4,
   "metadata": {},
   "outputs": [
    {
     "name": "stdout",
     "output_type": "stream",
     "text": [
      "127\n",
      "None\n"
     ]
    }
   ],
   "source": [
    "# import mnemonic from env\n",
    "filepath=\"env.bat\"\n",
    "p = subprocess.Popen(filepath, shell=True, stdout = subprocess.PIPE)\n",
    "\n",
    "stdout, stderr = p.communicate()\n",
    "print (p.returncode) # is 0 if success\n",
    "mnemonic = os.getenv('MNEMONIC')\n",
    "print(mnemonic)"
   ]
  },
  {
   "cell_type": "code",
   "execution_count": 5,
   "metadata": {},
   "outputs": [],
   "source": [
    "# connect to local ETH/ geth\n",
    "w3 = Web3(Web3.HTTPProvider('http://127.0.0.1:8545'))\n",
    "w3.middleware_onion.inject(geth_poa_middleware, layer=0)\n",
    "w3.eth.setGasPriceStrategy(medium_gas_price_strategy)\n"
   ]
  },
  {
   "cell_type": "code",
   "execution_count": 6,
   "metadata": {},
   "outputs": [],
   "source": [
    "# Define function to derive wallet\n",
    "def derive_wallets(mnemonic, coin, numderive):\n",
    "    \"\"\"Use the subprocess library to call the php file script from Python\"\"\"\n",
    "    command = f'php ./hd-wallet-derive/hd-wallet-derive.php -g --mnemonic=\"{mnemonic}\" --numderive=\"{numderive}\" --coin=\"{coin}\" --format=json' \n",
    "    \n",
    "    p = subprocess.Popen(command, stdout=subprocess.PIPE, shell=True)\n",
    "    (output, err) = p.communicate()\n",
    "   \n",
    "    keys = json.loads(output)\n",
    "    return  keys"
   ]
  },
  {
   "cell_type": "code",
   "execution_count": 7,
   "metadata": {},
   "outputs": [
    {
     "data": {
      "text/plain": [
       "[{'path': \"m/44'/0'/0'/0/0\",\n",
       "  'address': '1Hk26uv3aSo2WmKNPbeUGjNWPFDBLU2waW',\n",
       "  'xprv': 'xprvA4EtnVRNTKMCodewrh6ipRZg96w7tyJMntxXmtPitFkMn7Dwe6BRfeC2bnL8DRs96stL1Kn752eZJqfFX1Fs25uaRxnUSSShU91qzeg5gWK',\n",
       "  'xpub': 'xpub6HEFBzxGHguW27jQxidjBZWQh8mcJS2DA7t8aGoLSbHLeuZ6BdVgDSWWT5kbpKZxGjjA8qDfgYCyKgBeau5Qp48c5KC9dTaYjWd3jLfF8MG',\n",
       "  'privkey': 'KzQ3o74J1R3MFuzvRNQWjckRz3AYZHgggJRbs3P7TH1ZoXJqKety',\n",
       "  'pubkey': '0399c9a8f6933934bfe811fc524c0e8684f971819398a0581f20ddf6371db0bb18',\n",
       "  'pubkeyhash': 'b7a4d19972d97725ebe1d980ac875f4b41322ec5',\n",
       "  'index': 0},\n",
       " {'path': \"m/44'/0'/0'/0/1\",\n",
       "  'address': '16LsmsW5nshaMWz4XXE9qZjE1HHEEF61Ma',\n",
       "  'xprv': 'xprvA4EtnVRNTKMCq217SWBa6NsqSVyLTWUXtfzvAS59aMAE7oDrH6mcU6PKk5eQp6CHmMWRdX1d3JWWhbsHgdCzXa2x1aq2Fma1CDXCrpCbKzi',\n",
       "  'xpub': 'xpub6HEFBzxGHguW3W5aYXiaTWpZzXopryCPFtvWxpUm8ghCzbYzpe5s1thobMiag5eAqA5LguGdtcoLEsJjFfyBpTV1kzXMa7aBXzCHwFfrRWH',\n",
       "  'privkey': 'L3PRGxRUzyYGDEnWsdtyunpa5DCfYcgKfBSCCXGEHofUyxYj7zc6',\n",
       "  'pubkey': '03412c487c7a81706519d3236215f717b9134a39e0447e1a70de08fd65d83ab7e1',\n",
       "  'pubkeyhash': '3a9aea7796dbbce5a965d1fa4a7cf01cec335e7d',\n",
       "  'index': 1},\n",
       " {'path': \"m/44'/0'/0'/0/2\",\n",
       "  'address': '1NdkcejAbVQToA8Zc9mhevqxTwYp1oreey',\n",
       "  'xprv': 'xprvA4EtnVRNTKMCsTVZJBFzMJgp4eP9hSvkPVsr6JuNRVFiNAkxFw4YcbGDrQCWxhEHHmG8WUDrGoA4r1u8CoNH13CKh8QpiLHkP5cFJkBSCh9',\n",
       "  'xpub': 'xpub6HEFBzxGHguW5wa2QCnziSdYcgDe6uebkioSthJyypnhEy66oUNoAPahhgrjQneoKs5dcLRXbUMQoZy9vbuo7wcZqbifZHoiSqSubuHtZrg',\n",
       "  'privkey': 'KwuLeHZMNR4D9D4EHBTT2v3B3imvZdcv3tK3WJ8Ju4cSBBuU9XvA',\n",
       "  'pubkey': '02ead7d72915461c3a194b3a48c5af29caf1a570057b635bba031541dedd498521',\n",
       "  'pubkeyhash': 'ed4e0615dce5ef76eae4b45b1be3dcb898a85c0e',\n",
       "  'index': 2}]"
      ]
     },
     "execution_count": 7,
     "metadata": {},
     "output_type": "execute_result"
    }
   ],
   "source": [
    "# Test the function derive_wallets\n",
    "derive_wallets(mnemonic, 'BTC', 3)"
   ]
  },
  {
   "cell_type": "code",
   "execution_count": 8,
   "metadata": {},
   "outputs": [],
   "source": [
    "#Setting dictionary of coins to be used in the wallet\n",
    "coins = {\"eth\", \"btc-test\", \"btc\"}\n",
    "numderive = 3"
   ]
  },
  {
   "cell_type": "code",
   "execution_count": 9,
   "metadata": {},
   "outputs": [],
   "source": [
    "\n",
    "keys = {}\n",
    "for coin in coins:\n",
    "    keys[coin]= derive_wallets(mnemonic, coin, numderive=3)"
   ]
  },
  {
   "cell_type": "code",
   "execution_count": 10,
   "metadata": {},
   "outputs": [
    {
     "name": "stdout",
     "output_type": "stream",
     "text": [
      "\"0xd36d0f9ff2f6dc80208cd19e0b7d939f11bd1a63d10c38cdc1c58f4dbbc95edc\"\n",
      "\"cUMT7ptJgxrwSm9s5zSUCKUhSNVq1UC9v31vgoSusyukAciNMdDt\"\n"
     ]
    }
   ],
   "source": [
    "\n",
    "eth_PrivateKey = keys[\"eth\"][0]['privkey']\n",
    "btc_PrivateKey = keys['btc-test'][0]['privkey']\n",
    "\n",
    "print(json.dumps(eth_PrivateKey, indent=4, sort_keys=True))\n",
    "print(json.dumps(btc_PrivateKey, indent=4, sort_keys=True))"
   ]
  },
  {
   "cell_type": "code",
   "execution_count": 11,
   "metadata": {},
   "outputs": [
    {
     "name": "stdout",
     "output_type": "stream",
     "text": [
      "{\n",
      "    \"btc\": [\n",
      "        {\n",
      "            \"address\": \"1Hk26uv3aSo2WmKNPbeUGjNWPFDBLU2waW\",\n",
      "            \"index\": 0,\n",
      "            \"path\": \"m/44'/0'/0'/0/0\",\n",
      "            \"privkey\": \"KzQ3o74J1R3MFuzvRNQWjckRz3AYZHgggJRbs3P7TH1ZoXJqKety\",\n",
      "            \"pubkey\": \"0399c9a8f6933934bfe811fc524c0e8684f971819398a0581f20ddf6371db0bb18\",\n",
      "            \"pubkeyhash\": \"b7a4d19972d97725ebe1d980ac875f4b41322ec5\",\n",
      "            \"xprv\": \"xprvA4EtnVRNTKMCodewrh6ipRZg96w7tyJMntxXmtPitFkMn7Dwe6BRfeC2bnL8DRs96stL1Kn752eZJqfFX1Fs25uaRxnUSSShU91qzeg5gWK\",\n",
      "            \"xpub\": \"xpub6HEFBzxGHguW27jQxidjBZWQh8mcJS2DA7t8aGoLSbHLeuZ6BdVgDSWWT5kbpKZxGjjA8qDfgYCyKgBeau5Qp48c5KC9dTaYjWd3jLfF8MG\"\n",
      "        },\n",
      "        {\n",
      "            \"address\": \"16LsmsW5nshaMWz4XXE9qZjE1HHEEF61Ma\",\n",
      "            \"index\": 1,\n",
      "            \"path\": \"m/44'/0'/0'/0/1\",\n",
      "            \"privkey\": \"L3PRGxRUzyYGDEnWsdtyunpa5DCfYcgKfBSCCXGEHofUyxYj7zc6\",\n",
      "            \"pubkey\": \"03412c487c7a81706519d3236215f717b9134a39e0447e1a70de08fd65d83ab7e1\",\n",
      "            \"pubkeyhash\": \"3a9aea7796dbbce5a965d1fa4a7cf01cec335e7d\",\n",
      "            \"xprv\": \"xprvA4EtnVRNTKMCq217SWBa6NsqSVyLTWUXtfzvAS59aMAE7oDrH6mcU6PKk5eQp6CHmMWRdX1d3JWWhbsHgdCzXa2x1aq2Fma1CDXCrpCbKzi\",\n",
      "            \"xpub\": \"xpub6HEFBzxGHguW3W5aYXiaTWpZzXopryCPFtvWxpUm8ghCzbYzpe5s1thobMiag5eAqA5LguGdtcoLEsJjFfyBpTV1kzXMa7aBXzCHwFfrRWH\"\n",
      "        },\n",
      "        {\n",
      "            \"address\": \"1NdkcejAbVQToA8Zc9mhevqxTwYp1oreey\",\n",
      "            \"index\": 2,\n",
      "            \"path\": \"m/44'/0'/0'/0/2\",\n",
      "            \"privkey\": \"KwuLeHZMNR4D9D4EHBTT2v3B3imvZdcv3tK3WJ8Ju4cSBBuU9XvA\",\n",
      "            \"pubkey\": \"02ead7d72915461c3a194b3a48c5af29caf1a570057b635bba031541dedd498521\",\n",
      "            \"pubkeyhash\": \"ed4e0615dce5ef76eae4b45b1be3dcb898a85c0e\",\n",
      "            \"xprv\": \"xprvA4EtnVRNTKMCsTVZJBFzMJgp4eP9hSvkPVsr6JuNRVFiNAkxFw4YcbGDrQCWxhEHHmG8WUDrGoA4r1u8CoNH13CKh8QpiLHkP5cFJkBSCh9\",\n",
      "            \"xpub\": \"xpub6HEFBzxGHguW5wa2QCnziSdYcgDe6uebkioSthJyypnhEy66oUNoAPahhgrjQneoKs5dcLRXbUMQoZy9vbuo7wcZqbifZHoiSqSubuHtZrg\"\n",
      "        }\n",
      "    ],\n",
      "    \"btc-test\": [\n",
      "        {\n",
      "            \"address\": \"mkwqRYLAfeoMJnnb5A9WegujdggyBeEPGD\",\n",
      "            \"index\": 0,\n",
      "            \"path\": \"m/44'/1'/0'/0/0\",\n",
      "            \"privkey\": \"cUMT7ptJgxrwSm9s5zSUCKUhSNVq1UC9v31vgoSusyukAciNMdDt\",\n",
      "            \"pubkey\": \"02dcb7a11c7172966e58679c0cb207bfb95d119cc55f9fb318d0a522aaff5b9577\",\n",
      "            \"pubkeyhash\": \"3b8d4adb98c1922686a0b9b3f10ee0f1ef7a2eb8\",\n",
      "            \"xprv\": \"tprv8khhNkzGYHzyhzgCwAKEf4xVvkBbV2vWqBQpybEMhGHivv3WgwhnjdCguDwQ1ujRnN5JWEM8q8nE8zjHSrthSTvMcxb6V575s5x2zT3q1Pk\",\n",
      "            \"xpub\": \"tpubDHPjXB2WgfgebThzpoyq4UccVmhXeN7RQV1cG7Gf7Y67mQJHKLXNv7pZ5M2WvzFPpQyVgMB9znNEFMefiFvgn7r72wMott5xBJksEZUfWX5\"\n",
      "        },\n",
      "        {\n",
      "            \"address\": \"mmUQuAvBYqVpKzayhaYvnJe9VuwkRdSWPu\",\n",
      "            \"index\": 1,\n",
      "            \"path\": \"m/44'/1'/0'/0/1\",\n",
      "            \"privkey\": \"cVj1Q51vqgtBEYokpcb6RtjMwVbAsaCmrQRyjMTHFm5rGoziYe44\",\n",
      "            \"pubkey\": \"024fca815b769b3e6920eb31081de336536e0a0dcba4955b6d7773b8acc205e0b4\",\n",
      "            \"pubkeyhash\": \"4155b748ac4f668e327a8b7a7c928241ba09eb85\",\n",
      "            \"xprv\": \"tprv8khhNkzGYHzyj6e6K8iKuPTCw6YLNRA3tRKCphDT4Yis5AKoPbwFLH7zqay3WqqcsnHCwJZedosPPAXcrHehSKV7MBy57KVPQxyQ3tHyq4g\",\n",
      "            \"xpub\": \"tpubDHPjXB2WgfgecZftCnNvJo7KW84GXkLxTiuz7DFkUpXFueaa1zkqWmjs1gg5EbtryQSJ81NQyoDwvXGWvis4AtWXeZXh9juHNWhUCGZwfRJ\"\n",
      "        },\n",
      "        {\n",
      "            \"address\": \"mxYAxY575hg56rGtU3n6754GfqCKRxzvep\",\n",
      "            \"index\": 2,\n",
      "            \"path\": \"m/44'/1'/0'/0/2\",\n",
      "            \"privkey\": \"cMzhL3wx92ETkcCDyTt8ouz8pXQnp7RBpE3pHu1637Sn16qVW9vo\",\n",
      "            \"pubkey\": \"03bdfba2cebb0d9fa135451ec068d05e6ddf07d8c79c13afa46b4658b3942cf087\",\n",
      "            \"pubkeyhash\": \"bab5200f7b800fc1fda9a7449df8b99064501931\",\n",
      "            \"xprv\": \"tprv8khhNkzGYHzymedp2vc5YrDY9Wo8pZHMTSMLVs5QX2JRV3iaHkTveCATn7hwZehVuu3HV986zzRHULnTF3dUB4gior6YYpv39vDdGmZtvo5\",\n",
      "            \"xpub\": \"tpubDHPjXB2Wgfgef7fbvaGfxFseiYK4ytUG2jx7nP7hwJ6pKXyLv9HWpgnKxHwpFx9yRGdHH7nRWwNVZJ39Neu7znX2LCPrWVgVDEN53WphdpV\"\n",
      "        }\n",
      "    ],\n",
      "    \"eth\": [\n",
      "        {\n",
      "            \"address\": \"0x02194a55DDA1B029F70220D53f099F38c629ab36\",\n",
      "            \"index\": 0,\n",
      "            \"path\": \"m/44'/60'/0'/0/0\",\n",
      "            \"privkey\": \"0xd36d0f9ff2f6dc80208cd19e0b7d939f11bd1a63d10c38cdc1c58f4dbbc95edc\",\n",
      "            \"pubkey\": \"03b21e2e1bc0b74c298d113c5c305c80cc76e67c4ff29e9b31028ea17328f8bba8\",\n",
      "            \"pubkeyhash\": \"a85e006b705f905c3e0e82485a33bf5bae8da52e\",\n",
      "            \"xprv\": \"xprvA2UAbkzcn2ntbeUWWeryfF3uDhgNm4dauGWnvnDix6CsvCzQuvLXjSRM7JTtTTWK9sX95nFVJwYhVGxXqPToYqhz27ChLeVmsCQQXUKHxdM\",\n",
      "            \"xpub\": \"xpub6FTX1GXWcQMBp8YycgPz2NzdmjWsAXMSGVSPjAdLWRjro1KZTTenHEjpxbBjGGK7wisPZe4htBommydMu8aPzi3Y94xHEdcN3ANiCP23RiY\"\n",
      "        },\n",
      "        {\n",
      "            \"address\": \"0x3dFb64A5AdAe2aDece2E252FE5E889d61Ef75122\",\n",
      "            \"index\": 1,\n",
      "            \"path\": \"m/44'/60'/0'/0/1\",\n",
      "            \"privkey\": \"0x81b180541f1ae73a48976095a58a342611fcedac9c00758510c0f3c0c63e5710\",\n",
      "            \"pubkey\": \"03b64da52e7b23d110002752118ecc97052e6637d916794bef1eaac7bba0a54d3b\",\n",
      "            \"pubkeyhash\": \"5d352e57cab65ca61793104f70e4b0f4543527aa\",\n",
      "            \"xprv\": \"xprvA2UAbkzcn2ntezNrVAWRNF7yPRSuWDGEu7CdrwoNhYEjuJdeqhFC9zpZ9Uomp4Tuzf47cQ661EzPLErPP9nSvAHoboLqYTTpNd1xfeFGuUP\",\n",
      "            \"xpub\": \"xpub6FTX1GXWcQMBsUTKbC3RjP4hwTHPufz6GL8EfLCzFsmin6xoPEZSho92znBTHFATi3RFHmhJLpwwR7P9KXcN9f4jAs4YUHRkkyg7spW5kZe\"\n",
      "        },\n",
      "        {\n",
      "            \"address\": \"0xdeA9cE1d814f6dAaEe900D864B7f1974Ab2f0A44\",\n",
      "            \"index\": 2,\n",
      "            \"path\": \"m/44'/60'/0'/0/2\",\n",
      "            \"privkey\": \"0x815b3bc011096f513a633ed35581e057423680405381db490576d48b95e1ab15\",\n",
      "            \"pubkey\": \"03e58f0070091a989dbede3de95458ddd960381f1846f4414dcc896edc04907735\",\n",
      "            \"pubkeyhash\": \"f1ba997dd9013d7140ac9367cf66ed197c1413b6\",\n",
      "            \"xprv\": \"xprvA2UAbkzcn2ntgZeXYbMHsrr7QnjdtoitxZDqhxkueuRiE6Eb1xqHUjriskG2mrFftCL29AUAj85B22PtvpSqspSWzLp9tzAQ9CsVKiW84m6\",\n",
      "            \"xpub\": \"xpub6FTX1GXWcQMBu3izectJEznqxpa8JGSkKn9SWMAXDExh6tZjZW9Y2YBCj3zfvXnQGoSrYoft3EGeXcURDCp9Mm9Rg4S3hug3GW2UeTFcFsQ\"\n",
      "        }\n",
      "    ]\n",
      "}\n"
     ]
    }
   ],
   "source": [
    "print(json.dumps(keys, indent=4, sort_keys=True))\n"
   ]
  },
  {
   "cell_type": "code",
   "execution_count": 12,
   "metadata": {},
   "outputs": [],
   "source": [
    "# create a function that convert the privkey string in a child key to an account object.\n",
    "def priv_key_to_account(coin,priv_key):\n",
    "    print(coin)\n",
    "    print(priv_key)\n",
    "    if coin == ETH:\n",
    "        return Account.privateKeyToAccount(priv_key)\n",
    "    elif coin == BTCTEST:\n",
    "        return PrivateKeyTestnet(priv_key)"
   ]
  },
  {
   "cell_type": "code",
   "execution_count": 13,
   "metadata": {},
   "outputs": [],
   "source": [
    "def create_tx(coin,account, recipient, amount):\n",
    "    if coin == ETH: \n",
    "        gasEstimate = w3.eth.estimateGas(\n",
    "            {\"from\":eth_acc.address, \"to\":recipient, \"value\": amount}\n",
    "        )\n",
    "        return { \n",
    "            \"from\": eth_acc.address,\n",
    "            \"to\": recipient,\n",
    "            \"value\": amount,\n",
    "            \"gasPrice\": w3.eth.gasPrice,\n",
    "            \"gas\": gasEstimate,\n",
    "            \"nonce\": w3.eth.getTransactionCount(eth_acc.address)\n",
    "        }\n",
    "    \n",
    "    elif coin == BTCTEST:\n",
    "        return PrivateKeyTestnet.prepare_transaction(account.address, [(recipient, amount, BTC)])"
   ]
  },
  {
   "cell_type": "code",
   "execution_count": 14,
   "metadata": {},
   "outputs": [
    {
     "name": "stdout",
     "output_type": "stream",
     "text": [
      "eth\n",
      "0xd36d0f9ff2f6dc80208cd19e0b7d939f11bd1a63d10c38cdc1c58f4dbbc95edc\n"
     ]
    }
   ],
   "source": [
    "# create a function to hold Ethereum \n",
    "eth_acc = priv_key_to_account(ETH, derive_wallets(mnemonic, ETH,5)[0]['privkey'])"
   ]
  },
  {
   "cell_type": "code",
   "execution_count": 15,
   "metadata": {},
   "outputs": [],
   "source": [
    "# create a function to send txn\n",
    "def send_txn(coin,account,recipient, amount):\n",
    "    txn = create_tx(coin, account, recipient, amount)\n",
    "    if coin == ETH:\n",
    "        signed_txn = eth_acc.sign_transaction(txn)\n",
    "        result = w3.eth.sendRawTransaction(signed_txn.rawTransaction)\n",
    "        print(result.hex())\n",
    "        return result.hex()\n",
    "    elif coin == BTCTEST:\n",
    "        tx_btctest = create_tx(coin, account, recipient, amount)\n",
    "        signed_txn = account.sign_transaction(txn)\n",
    "        print(signed_txn)\n",
    "        return NetworkAPI.broadcast_tx_testnet(signed_txn)"
   ]
  },
  {
   "cell_type": "code",
   "execution_count": 16,
   "metadata": {},
   "outputs": [],
   "source": [
    "## BTC-TEST Transaction"
   ]
  },
  {
   "cell_type": "code",
   "execution_count": 17,
   "metadata": {},
   "outputs": [
    {
     "name": "stdout",
     "output_type": "stream",
     "text": [
      "btc-test\n",
      "cUMT7ptJgxrwSm9s5zSUCKUhSNVq1UC9v31vgoSusyukAciNMdDt\n"
     ]
    }
   ],
   "source": [
    "btc_acc = priv_key_to_account(BTCTEST,btc_PrivateKey)"
   ]
  },
  {
   "cell_type": "code",
   "execution_count": 21,
   "metadata": {},
   "outputs": [
    {
     "data": {
      "text/plain": [
       "'{\"unspents\":[{\"amount\":434128,\"confirmations\":34647,\"script\":\"76a9143b8d4adb98c1922686a0b9b3f10ee0f1ef7a2eb888ac\",\"txid\":\"ec95f0bd510abd797a59753d7290aeb10f27c2cab153e435847e53c78071e672\",\"txindex\":1,\"type\":\"p2pkh\",\"vsize\":148,\"segwit\":false,\"sequence\":4294967295}],\"outputs\":[[\"n3D8vVvLyD7pPQmWoQgMMERZrDjmBheBpU\",100000],[\"mkwqRYLAfeoMJnnb5A9WegujdggyBeEPGD\",311076]]}'"
      ]
     },
     "execution_count": 21,
     "metadata": {},
     "output_type": "execute_result"
    }
   ],
   "source": [
    "# create BTC transaction\n",
    "create_tx(BTCTEST,btc_acc,\"n3D8vVvLyD7pPQmWoQgMMERZrDjmBheBpU\", 0.001)"
   ]
  },
  {
   "cell_type": "code",
   "execution_count": 22,
   "metadata": {},
   "outputs": [
    {
     "name": "stdout",
     "output_type": "stream",
     "text": [
      "010000000172e67180c7537e8435e453b1cac2270fb1ae90723d75597a79bd0a51bdf095ec010000006a47304402202e5326b6ac14c073a26cea8e63d75344ce92be8940d714cb8fb145473d572039022015777836ed1eafc5083166eb5f572bb1bdd264f4596b2aedb6cb2965923b1f5a012102dcb7a11c7172966e58679c0cb207bfb95d119cc55f9fb318d0a522aaff5b9577ffffffff02a0860100000000001976a9148c5bf3cb05705fe9512d23b229c4253e82ba817988ac24bf0400000000001976a9143b8d4adb98c1922686a0b9b3f10ee0f1ef7a2eb888ac00000000\n"
     ]
    }
   ],
   "source": [
    "# Send BTC transaction\n",
    "send_txn(BTCTEST,btc_acc,\"mtK73sNPY9CKuzVvpv4W1969AD1UmGGfsX\", 0.001)"
   ]
  },
  {
   "cell_type": "code",
   "execution_count": 23,
   "metadata": {},
   "outputs": [],
   "source": [
    "## ETH Transation"
   ]
  },
  {
   "cell_type": "code",
   "execution_count": 24,
   "metadata": {},
   "outputs": [],
   "source": [
    "#connecting to HTTP with address pk\n",
    "w3 = Web3(Web3.HTTPProvider(\"http://127.0.0.1:8545/0xd36d0f9ff2f6dc80208cd19e0b7d939f11bd1a63d10c38cdc1c58f4dbbc95edc\"))"
   ]
  },
  {
   "cell_type": "code",
   "execution_count": 25,
   "metadata": {},
   "outputs": [
    {
     "data": {
      "text/plain": [
       "True"
      ]
     },
     "execution_count": 25,
     "metadata": {},
     "output_type": "execute_result"
    }
   ],
   "source": [
    "# double check if  I am connected to blockchain. \n",
    "w3.isConnected()"
   ]
  },
  {
   "cell_type": "code",
   "execution_count": 26,
   "metadata": {},
   "outputs": [],
   "source": [
    "## Check the Balance of the account with local mining blockchain"
   ]
  },
  {
   "cell_type": "code",
   "execution_count": 29,
   "metadata": {},
   "outputs": [
    {
     "data": {
      "text/plain": [
       "72899603220000000000"
      ]
     },
     "execution_count": 29,
     "metadata": {},
     "output_type": "execute_result"
    }
   ],
   "source": [
    "w3.eth.getBalance(\"0x5Ae99bfc31867F0c539ae4AE1aad61609f88ae78\")"
   ]
  },
  {
   "cell_type": "code",
   "execution_count": 30,
   "metadata": {},
   "outputs": [
    {
     "data": {
      "text/plain": [
       "{'from': '0x02194a55DDA1B029F70220D53f099F38c629ab36',\n",
       " 'to': '0x8b6A5A92B2cA4341c6827Eb70A66894Af33536B4',\n",
       " 'value': 1000,\n",
       " 'gasPrice': 20000000000,\n",
       " 'gas': 21000,\n",
       " 'nonce': 0}"
      ]
     },
     "execution_count": 30,
     "metadata": {},
     "output_type": "execute_result"
    }
   ],
   "source": [
    "create_tx(ETH,eth_acc,\"0x8b6A5A92B2cA4341c6827Eb70A66894Af33536B4\", 1000)"
   ]
  },
  {
   "cell_type": "code",
   "execution_count": 40,
   "metadata": {},
   "outputs": [
    {
     "ename": "ValueError",
     "evalue": "{'message': \"sender doesn't have enough funds to send tx. The upfront cost is: 420000000000001 and the sender's account only has: 0\", 'code': -32000, 'data': {'stack': \"Error: sender doesn't have enough funds to send tx. The upfront cost is: 420000000000001 and the sender's account only has: 0\\n    at VM.<anonymous> (/Applications/Ganache.app/Contents/Resources/static/node/node_modules/ganache-core/node_modules/ethereumjs-vm/lib/runTx.ts:114:11)\\n    at step (/Applications/Ganache.app/Contents/Resources/static/node/node_modules/ganache-core/node_modules/ethereumjs-vm/dist/runTx.js:33:23)\\n    at Object.next (/Applications/Ganache.app/Contents/Resources/static/node/node_modules/ganache-core/node_modules/ethereumjs-vm/dist/runTx.js:14:53)\\n    at fulfilled (/Applications/Ganache.app/Contents/Resources/static/node/node_modules/ganache-core/node_modules/ethereumjs-vm/dist/runTx.js:5:58)\\n    at runMicrotasks (<anonymous>)\\n    at processTicksAndRejections (internal/process/task_queues.js:93:5)\", 'name': 'Error'}}",
     "output_type": "error",
     "traceback": [
      "\u001b[0;31m---------------------------------------------------------------------------\u001b[0m",
      "\u001b[0;31mValueError\u001b[0m                                Traceback (most recent call last)",
      "\u001b[0;32m<ipython-input-40-3c12381c96fa>\u001b[0m in \u001b[0;36m<module>\u001b[0;34m\u001b[0m\n\u001b[0;32m----> 1\u001b[0;31m \u001b[0msend_txn\u001b[0m\u001b[0;34m(\u001b[0m\u001b[0mETH\u001b[0m\u001b[0;34m,\u001b[0m \u001b[0meth_acc\u001b[0m\u001b[0;34m,\u001b[0m\u001b[0;34m\"0x8b6A5A92B2cA4341c6827Eb70A66894Af33536B4\"\u001b[0m\u001b[0;34m,\u001b[0m \u001b[0;36m1\u001b[0m\u001b[0;34m)\u001b[0m\u001b[0;34m\u001b[0m\u001b[0;34m\u001b[0m\u001b[0m\n\u001b[0m",
      "\u001b[0;32m<ipython-input-15-a908d4bff7e2>\u001b[0m in \u001b[0;36msend_txn\u001b[0;34m(coin, account, recipient, amount)\u001b[0m\n\u001b[1;32m      4\u001b[0m     \u001b[0;32mif\u001b[0m \u001b[0mcoin\u001b[0m \u001b[0;34m==\u001b[0m \u001b[0mETH\u001b[0m\u001b[0;34m:\u001b[0m\u001b[0;34m\u001b[0m\u001b[0;34m\u001b[0m\u001b[0m\n\u001b[1;32m      5\u001b[0m         \u001b[0msigned_txn\u001b[0m \u001b[0;34m=\u001b[0m \u001b[0meth_acc\u001b[0m\u001b[0;34m.\u001b[0m\u001b[0msign_transaction\u001b[0m\u001b[0;34m(\u001b[0m\u001b[0mtxn\u001b[0m\u001b[0;34m)\u001b[0m\u001b[0;34m\u001b[0m\u001b[0;34m\u001b[0m\u001b[0m\n\u001b[0;32m----> 6\u001b[0;31m         \u001b[0mresult\u001b[0m \u001b[0;34m=\u001b[0m \u001b[0mw3\u001b[0m\u001b[0;34m.\u001b[0m\u001b[0meth\u001b[0m\u001b[0;34m.\u001b[0m\u001b[0msendRawTransaction\u001b[0m\u001b[0;34m(\u001b[0m\u001b[0msigned_txn\u001b[0m\u001b[0;34m.\u001b[0m\u001b[0mrawTransaction\u001b[0m\u001b[0;34m)\u001b[0m\u001b[0;34m\u001b[0m\u001b[0;34m\u001b[0m\u001b[0m\n\u001b[0m\u001b[1;32m      7\u001b[0m         \u001b[0mprint\u001b[0m\u001b[0;34m(\u001b[0m\u001b[0mresult\u001b[0m\u001b[0;34m.\u001b[0m\u001b[0mhex\u001b[0m\u001b[0;34m(\u001b[0m\u001b[0;34m)\u001b[0m\u001b[0;34m)\u001b[0m\u001b[0;34m\u001b[0m\u001b[0;34m\u001b[0m\u001b[0m\n\u001b[1;32m      8\u001b[0m         \u001b[0;32mreturn\u001b[0m \u001b[0mresult\u001b[0m\u001b[0;34m.\u001b[0m\u001b[0mhex\u001b[0m\u001b[0;34m(\u001b[0m\u001b[0;34m)\u001b[0m\u001b[0;34m\u001b[0m\u001b[0;34m\u001b[0m\u001b[0m\n",
      "\u001b[0;32m~/opt/anaconda3/envs/dev/lib/python3.8/site-packages/web3/module.py\u001b[0m in \u001b[0;36mcaller\u001b[0;34m(*args, **kwargs)\u001b[0m\n\u001b[1;32m     56\u001b[0m             \u001b[0;32mreturn\u001b[0m \u001b[0mLogFilter\u001b[0m\u001b[0;34m(\u001b[0m\u001b[0meth_module\u001b[0m\u001b[0;34m=\u001b[0m\u001b[0mmodule\u001b[0m\u001b[0;34m,\u001b[0m \u001b[0mfilter_id\u001b[0m\u001b[0;34m=\u001b[0m\u001b[0merr\u001b[0m\u001b[0;34m.\u001b[0m\u001b[0mfilter_id\u001b[0m\u001b[0;34m)\u001b[0m\u001b[0;34m\u001b[0m\u001b[0;34m\u001b[0m\u001b[0m\n\u001b[1;32m     57\u001b[0m         \u001b[0mresult_formatters\u001b[0m\u001b[0;34m,\u001b[0m \u001b[0merror_formatters\u001b[0m \u001b[0;34m=\u001b[0m \u001b[0mresponse_formatters\u001b[0m\u001b[0;34m\u001b[0m\u001b[0;34m\u001b[0m\u001b[0m\n\u001b[0;32m---> 58\u001b[0;31m         \u001b[0mresult\u001b[0m \u001b[0;34m=\u001b[0m \u001b[0mw3\u001b[0m\u001b[0;34m.\u001b[0m\u001b[0mmanager\u001b[0m\u001b[0;34m.\u001b[0m\u001b[0mrequest_blocking\u001b[0m\u001b[0;34m(\u001b[0m\u001b[0mmethod_str\u001b[0m\u001b[0;34m,\u001b[0m \u001b[0mparams\u001b[0m\u001b[0;34m,\u001b[0m \u001b[0merror_formatters\u001b[0m\u001b[0;34m)\u001b[0m\u001b[0;34m\u001b[0m\u001b[0;34m\u001b[0m\u001b[0m\n\u001b[0m\u001b[1;32m     59\u001b[0m         \u001b[0;32mreturn\u001b[0m \u001b[0mapply_result_formatters\u001b[0m\u001b[0;34m(\u001b[0m\u001b[0mresult_formatters\u001b[0m\u001b[0;34m,\u001b[0m \u001b[0mresult\u001b[0m\u001b[0;34m)\u001b[0m\u001b[0;34m\u001b[0m\u001b[0;34m\u001b[0m\u001b[0m\n\u001b[1;32m     60\u001b[0m     \u001b[0;32mreturn\u001b[0m \u001b[0mcaller\u001b[0m\u001b[0;34m\u001b[0m\u001b[0;34m\u001b[0m\u001b[0m\n",
      "\u001b[0;32m~/opt/anaconda3/envs/dev/lib/python3.8/site-packages/web3/manager.py\u001b[0m in \u001b[0;36mrequest_blocking\u001b[0;34m(self, method, params, error_formatters)\u001b[0m\n\u001b[1;32m    156\u001b[0m         \u001b[0;32mif\u001b[0m \u001b[0;34m\"error\"\u001b[0m \u001b[0;32min\u001b[0m \u001b[0mresponse\u001b[0m\u001b[0;34m:\u001b[0m\u001b[0;34m\u001b[0m\u001b[0;34m\u001b[0m\u001b[0m\n\u001b[1;32m    157\u001b[0m             \u001b[0mapply_error_formatters\u001b[0m\u001b[0;34m(\u001b[0m\u001b[0merror_formatters\u001b[0m\u001b[0;34m,\u001b[0m \u001b[0mresponse\u001b[0m\u001b[0;34m)\u001b[0m\u001b[0;34m\u001b[0m\u001b[0;34m\u001b[0m\u001b[0m\n\u001b[0;32m--> 158\u001b[0;31m             \u001b[0;32mraise\u001b[0m \u001b[0mValueError\u001b[0m\u001b[0;34m(\u001b[0m\u001b[0mresponse\u001b[0m\u001b[0;34m[\u001b[0m\u001b[0;34m\"error\"\u001b[0m\u001b[0;34m]\u001b[0m\u001b[0;34m)\u001b[0m\u001b[0;34m\u001b[0m\u001b[0;34m\u001b[0m\u001b[0m\n\u001b[0m\u001b[1;32m    159\u001b[0m         \u001b[0;32melif\u001b[0m \u001b[0mresponse\u001b[0m\u001b[0;34m[\u001b[0m\u001b[0;34m'result'\u001b[0m\u001b[0;34m]\u001b[0m \u001b[0;32mis\u001b[0m \u001b[0;32mNone\u001b[0m\u001b[0;34m:\u001b[0m\u001b[0;34m\u001b[0m\u001b[0;34m\u001b[0m\u001b[0m\n\u001b[1;32m    160\u001b[0m             \u001b[0mapply_error_formatters\u001b[0m\u001b[0;34m(\u001b[0m\u001b[0merror_formatters\u001b[0m\u001b[0;34m,\u001b[0m \u001b[0mresponse\u001b[0m\u001b[0;34m,\u001b[0m \u001b[0mparams\u001b[0m\u001b[0;34m)\u001b[0m\u001b[0;34m\u001b[0m\u001b[0;34m\u001b[0m\u001b[0m\n",
      "\u001b[0;31mValueError\u001b[0m: {'message': \"sender doesn't have enough funds to send tx. The upfront cost is: 420000000000001 and the sender's account only has: 0\", 'code': -32000, 'data': {'stack': \"Error: sender doesn't have enough funds to send tx. The upfront cost is: 420000000000001 and the sender's account only has: 0\\n    at VM.<anonymous> (/Applications/Ganache.app/Contents/Resources/static/node/node_modules/ganache-core/node_modules/ethereumjs-vm/lib/runTx.ts:114:11)\\n    at step (/Applications/Ganache.app/Contents/Resources/static/node/node_modules/ganache-core/node_modules/ethereumjs-vm/dist/runTx.js:33:23)\\n    at Object.next (/Applications/Ganache.app/Contents/Resources/static/node/node_modules/ganache-core/node_modules/ethereumjs-vm/dist/runTx.js:14:53)\\n    at fulfilled (/Applications/Ganache.app/Contents/Resources/static/node/node_modules/ganache-core/node_modules/ethereumjs-vm/dist/runTx.js:5:58)\\n    at runMicrotasks (<anonymous>)\\n    at processTicksAndRejections (internal/process/task_queues.js:93:5)\", 'name': 'Error'}}"
     ]
    }
   ],
   "source": [
    "send_txn(ETH, eth_acc,\"0x8b6A5A92B2cA4341c6827Eb70A66894Af33536B4\", 1)"
   ]
  },
  {
   "cell_type": "code",
   "execution_count": 39,
   "metadata": {},
   "outputs": [
    {
     "data": {
      "text/plain": [
       "100000000000000000000"
      ]
     },
     "execution_count": 39,
     "metadata": {},
     "output_type": "execute_result"
    }
   ],
   "source": [
    "w3.eth.getBalance(\"0x8b6A5A92B2cA4341c6827Eb70A66894Af33536B4\")"
   ]
  },
  {
   "cell_type": "code",
   "execution_count": null,
   "metadata": {},
   "outputs": [],
   "source": []
  }
 ],
 "metadata": {
  "kernelspec": {
   "display_name": "Python [conda env:dev] *",
   "language": "python",
   "name": "conda-env-dev-py"
  },
  "language_info": {
   "codemirror_mode": {
    "name": "ipython",
    "version": 3
   },
   "file_extension": ".py",
   "mimetype": "text/x-python",
   "name": "python",
   "nbconvert_exporter": "python",
   "pygments_lexer": "ipython3",
   "version": "3.8.5"
  }
 },
 "nbformat": 4,
 "nbformat_minor": 4
}
